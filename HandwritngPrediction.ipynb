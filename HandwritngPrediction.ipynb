{
  "nbformat": 4,
  "nbformat_minor": 0,
  "metadata": {
    "colab": {
      "provenance": []
    },
    "kernelspec": {
      "name": "python3",
      "display_name": "Python 3"
    },
    "language_info": {
      "name": "python"
    }
  },
  "cells": [
    {
      "cell_type": "code",
      "execution_count": 1,
      "metadata": {
        "id": "ptDXaY6bjDMJ"
      },
      "outputs": [],
      "source": [
        "# Importing the required libraries\n",
        "\n",
        "import pandas as pd\n",
        "import numpy as np\n",
        "import matplotlib.pyplot as plt\n",
        "from sklearn.model_selection import train_test_split\n",
        "from sklearn.model_selection import cross_val_score\n",
        "from sklearn import metrics\n",
        "\n",
        "import warnings\n",
        "\n",
        "warnings.filterwarnings('ignore')"
      ]
    },
    {
      "cell_type": "code",
      "source": [
        "# Loading the dataset\n",
        "data = pd.read_csv(\"/content/letters.csv\")"
      ],
      "metadata": {
        "id": "5DRlAX9ipzk_"
      },
      "execution_count": 2,
      "outputs": []
    },
    {
      "cell_type": "code",
      "source": [
        "data.shape"
      ],
      "metadata": {
        "colab": {
          "base_uri": "https://localhost:8080/"
        },
        "id": "ly5KFxXpMHdD",
        "outputId": "73280253-85b2-46f0-ed68-0bab174b21a5"
      },
      "execution_count": 3,
      "outputs": [
        {
          "output_type": "execute_result",
          "data": {
            "text/plain": [
              "(42000, 46)"
            ]
          },
          "metadata": {},
          "execution_count": 3
        }
      ]
    },
    {
      "cell_type": "code",
      "source": [
        "#Visualizing the data\n",
        "data.head(5)"
      ],
      "metadata": {
        "colab": {
          "base_uri": "https://localhost:8080/",
          "height": 299
        },
        "id": "qU4hN789p4XZ",
        "outputId": "a534021a-8ba6-4cc0-9446-26d87d025d84"
      },
      "execution_count": 4,
      "outputs": [
        {
          "output_type": "execute_result",
          "data": {
            "text/plain": [
              "   label  pixel43  pixel44  pixel92  pixel124  pixel125  pixel126  pixel127  \\\n",
              "0      1        0        0        0         0         0         0         0   \n",
              "1      0        0        0        0       137       137       192        86   \n",
              "2      1        0        0        0         3       141       139         3   \n",
              "3      4        0        0        0         0         0         0         0   \n",
              "4      0        0        0        0       155       254       254       254   \n",
              "\n",
              "   pixel128  pixel129  ...  pixel329  pixel351  pixel410  pixel411  pixel412  \\\n",
              "0         0         0  ...         0       254         0         0         0   \n",
              "1        72         1  ...       254         0         0        75       254   \n",
              "2         0         0  ...         0       184         0         0         0   \n",
              "3         0         0  ...         0         0        94       255        69   \n",
              "4       157        30  ...       253         0         0         0       223   \n",
              "\n",
              "   pixel413  pixel414  pixel415  pixel416  pixel417  \n",
              "0         0         0         0         0         0  \n",
              "1       254       254        17         0         0  \n",
              "2         0         0         0         0         0  \n",
              "3         0         0         0         0         0  \n",
              "4       253       253       253       129         0  \n",
              "\n",
              "[5 rows x 46 columns]"
            ],
            "text/html": [
              "\n",
              "  <div id=\"df-5408e0b3-27db-4a0e-8070-70bd2e12a446\">\n",
              "    <div class=\"colab-df-container\">\n",
              "      <div>\n",
              "<style scoped>\n",
              "    .dataframe tbody tr th:only-of-type {\n",
              "        vertical-align: middle;\n",
              "    }\n",
              "\n",
              "    .dataframe tbody tr th {\n",
              "        vertical-align: top;\n",
              "    }\n",
              "\n",
              "    .dataframe thead th {\n",
              "        text-align: right;\n",
              "    }\n",
              "</style>\n",
              "<table border=\"1\" class=\"dataframe\">\n",
              "  <thead>\n",
              "    <tr style=\"text-align: right;\">\n",
              "      <th></th>\n",
              "      <th>label</th>\n",
              "      <th>pixel43</th>\n",
              "      <th>pixel44</th>\n",
              "      <th>pixel92</th>\n",
              "      <th>pixel124</th>\n",
              "      <th>pixel125</th>\n",
              "      <th>pixel126</th>\n",
              "      <th>pixel127</th>\n",
              "      <th>pixel128</th>\n",
              "      <th>pixel129</th>\n",
              "      <th>...</th>\n",
              "      <th>pixel329</th>\n",
              "      <th>pixel351</th>\n",
              "      <th>pixel410</th>\n",
              "      <th>pixel411</th>\n",
              "      <th>pixel412</th>\n",
              "      <th>pixel413</th>\n",
              "      <th>pixel414</th>\n",
              "      <th>pixel415</th>\n",
              "      <th>pixel416</th>\n",
              "      <th>pixel417</th>\n",
              "    </tr>\n",
              "  </thead>\n",
              "  <tbody>\n",
              "    <tr>\n",
              "      <th>0</th>\n",
              "      <td>1</td>\n",
              "      <td>0</td>\n",
              "      <td>0</td>\n",
              "      <td>0</td>\n",
              "      <td>0</td>\n",
              "      <td>0</td>\n",
              "      <td>0</td>\n",
              "      <td>0</td>\n",
              "      <td>0</td>\n",
              "      <td>0</td>\n",
              "      <td>...</td>\n",
              "      <td>0</td>\n",
              "      <td>254</td>\n",
              "      <td>0</td>\n",
              "      <td>0</td>\n",
              "      <td>0</td>\n",
              "      <td>0</td>\n",
              "      <td>0</td>\n",
              "      <td>0</td>\n",
              "      <td>0</td>\n",
              "      <td>0</td>\n",
              "    </tr>\n",
              "    <tr>\n",
              "      <th>1</th>\n",
              "      <td>0</td>\n",
              "      <td>0</td>\n",
              "      <td>0</td>\n",
              "      <td>0</td>\n",
              "      <td>137</td>\n",
              "      <td>137</td>\n",
              "      <td>192</td>\n",
              "      <td>86</td>\n",
              "      <td>72</td>\n",
              "      <td>1</td>\n",
              "      <td>...</td>\n",
              "      <td>254</td>\n",
              "      <td>0</td>\n",
              "      <td>0</td>\n",
              "      <td>75</td>\n",
              "      <td>254</td>\n",
              "      <td>254</td>\n",
              "      <td>254</td>\n",
              "      <td>17</td>\n",
              "      <td>0</td>\n",
              "      <td>0</td>\n",
              "    </tr>\n",
              "    <tr>\n",
              "      <th>2</th>\n",
              "      <td>1</td>\n",
              "      <td>0</td>\n",
              "      <td>0</td>\n",
              "      <td>0</td>\n",
              "      <td>3</td>\n",
              "      <td>141</td>\n",
              "      <td>139</td>\n",
              "      <td>3</td>\n",
              "      <td>0</td>\n",
              "      <td>0</td>\n",
              "      <td>...</td>\n",
              "      <td>0</td>\n",
              "      <td>184</td>\n",
              "      <td>0</td>\n",
              "      <td>0</td>\n",
              "      <td>0</td>\n",
              "      <td>0</td>\n",
              "      <td>0</td>\n",
              "      <td>0</td>\n",
              "      <td>0</td>\n",
              "      <td>0</td>\n",
              "    </tr>\n",
              "    <tr>\n",
              "      <th>3</th>\n",
              "      <td>4</td>\n",
              "      <td>0</td>\n",
              "      <td>0</td>\n",
              "      <td>0</td>\n",
              "      <td>0</td>\n",
              "      <td>0</td>\n",
              "      <td>0</td>\n",
              "      <td>0</td>\n",
              "      <td>0</td>\n",
              "      <td>0</td>\n",
              "      <td>...</td>\n",
              "      <td>0</td>\n",
              "      <td>0</td>\n",
              "      <td>94</td>\n",
              "      <td>255</td>\n",
              "      <td>69</td>\n",
              "      <td>0</td>\n",
              "      <td>0</td>\n",
              "      <td>0</td>\n",
              "      <td>0</td>\n",
              "      <td>0</td>\n",
              "    </tr>\n",
              "    <tr>\n",
              "      <th>4</th>\n",
              "      <td>0</td>\n",
              "      <td>0</td>\n",
              "      <td>0</td>\n",
              "      <td>0</td>\n",
              "      <td>155</td>\n",
              "      <td>254</td>\n",
              "      <td>254</td>\n",
              "      <td>254</td>\n",
              "      <td>157</td>\n",
              "      <td>30</td>\n",
              "      <td>...</td>\n",
              "      <td>253</td>\n",
              "      <td>0</td>\n",
              "      <td>0</td>\n",
              "      <td>0</td>\n",
              "      <td>223</td>\n",
              "      <td>253</td>\n",
              "      <td>253</td>\n",
              "      <td>253</td>\n",
              "      <td>129</td>\n",
              "      <td>0</td>\n",
              "    </tr>\n",
              "  </tbody>\n",
              "</table>\n",
              "<p>5 rows × 46 columns</p>\n",
              "</div>\n",
              "      <button class=\"colab-df-convert\" onclick=\"convertToInteractive('df-5408e0b3-27db-4a0e-8070-70bd2e12a446')\"\n",
              "              title=\"Convert this dataframe to an interactive table.\"\n",
              "              style=\"display:none;\">\n",
              "        \n",
              "  <svg xmlns=\"http://www.w3.org/2000/svg\" height=\"24px\"viewBox=\"0 0 24 24\"\n",
              "       width=\"24px\">\n",
              "    <path d=\"M0 0h24v24H0V0z\" fill=\"none\"/>\n",
              "    <path d=\"M18.56 5.44l.94 2.06.94-2.06 2.06-.94-2.06-.94-.94-2.06-.94 2.06-2.06.94zm-11 1L8.5 8.5l.94-2.06 2.06-.94-2.06-.94L8.5 2.5l-.94 2.06-2.06.94zm10 10l.94 2.06.94-2.06 2.06-.94-2.06-.94-.94-2.06-.94 2.06-2.06.94z\"/><path d=\"M17.41 7.96l-1.37-1.37c-.4-.4-.92-.59-1.43-.59-.52 0-1.04.2-1.43.59L10.3 9.45l-7.72 7.72c-.78.78-.78 2.05 0 2.83L4 21.41c.39.39.9.59 1.41.59.51 0 1.02-.2 1.41-.59l7.78-7.78 2.81-2.81c.8-.78.8-2.07 0-2.86zM5.41 20L4 18.59l7.72-7.72 1.47 1.35L5.41 20z\"/>\n",
              "  </svg>\n",
              "      </button>\n",
              "      \n",
              "  <style>\n",
              "    .colab-df-container {\n",
              "      display:flex;\n",
              "      flex-wrap:wrap;\n",
              "      gap: 12px;\n",
              "    }\n",
              "\n",
              "    .colab-df-convert {\n",
              "      background-color: #E8F0FE;\n",
              "      border: none;\n",
              "      border-radius: 50%;\n",
              "      cursor: pointer;\n",
              "      display: none;\n",
              "      fill: #1967D2;\n",
              "      height: 32px;\n",
              "      padding: 0 0 0 0;\n",
              "      width: 32px;\n",
              "    }\n",
              "\n",
              "    .colab-df-convert:hover {\n",
              "      background-color: #E2EBFA;\n",
              "      box-shadow: 0px 1px 2px rgba(60, 64, 67, 0.3), 0px 1px 3px 1px rgba(60, 64, 67, 0.15);\n",
              "      fill: #174EA6;\n",
              "    }\n",
              "\n",
              "    [theme=dark] .colab-df-convert {\n",
              "      background-color: #3B4455;\n",
              "      fill: #D2E3FC;\n",
              "    }\n",
              "\n",
              "    [theme=dark] .colab-df-convert:hover {\n",
              "      background-color: #434B5C;\n",
              "      box-shadow: 0px 1px 3px 1px rgba(0, 0, 0, 0.15);\n",
              "      filter: drop-shadow(0px 1px 2px rgba(0, 0, 0, 0.3));\n",
              "      fill: #FFFFFF;\n",
              "    }\n",
              "  </style>\n",
              "\n",
              "      <script>\n",
              "        const buttonEl =\n",
              "          document.querySelector('#df-5408e0b3-27db-4a0e-8070-70bd2e12a446 button.colab-df-convert');\n",
              "        buttonEl.style.display =\n",
              "          google.colab.kernel.accessAllowed ? 'block' : 'none';\n",
              "\n",
              "        async function convertToInteractive(key) {\n",
              "          const element = document.querySelector('#df-5408e0b3-27db-4a0e-8070-70bd2e12a446');\n",
              "          const dataTable =\n",
              "            await google.colab.kernel.invokeFunction('convertToInteractive',\n",
              "                                                     [key], {});\n",
              "          if (!dataTable) return;\n",
              "\n",
              "          const docLinkHtml = 'Like what you see? Visit the ' +\n",
              "            '<a target=\"_blank\" href=https://colab.research.google.com/notebooks/data_table.ipynb>data table notebook</a>'\n",
              "            + ' to learn more about interactive tables.';\n",
              "          element.innerHTML = '';\n",
              "          dataTable['output_type'] = 'display_data';\n",
              "          await google.colab.output.renderOutput(dataTable, element);\n",
              "          const docLink = document.createElement('div');\n",
              "          docLink.innerHTML = docLinkHtml;\n",
              "          element.appendChild(docLink);\n",
              "        }\n",
              "      </script>\n",
              "    </div>\n",
              "  </div>\n",
              "  "
            ]
          },
          "metadata": {},
          "execution_count": 4
        }
      ]
    },
    {
      "cell_type": "code",
      "source": [
        "# Checking for missing values\n",
        "\n",
        "data.sum().isnull()"
      ],
      "metadata": {
        "colab": {
          "base_uri": "https://localhost:8080/"
        },
        "id": "CoJu4KABqPsD",
        "outputId": "f62c6a21-1aa0-4c1a-a9ee-2536036821e1"
      },
      "execution_count": 5,
      "outputs": [
        {
          "output_type": "execute_result",
          "data": {
            "text/plain": [
              "label       False\n",
              "pixel43     False\n",
              "pixel44     False\n",
              "pixel92     False\n",
              "pixel124    False\n",
              "pixel125    False\n",
              "pixel126    False\n",
              "pixel127    False\n",
              "pixel128    False\n",
              "pixel129    False\n",
              "pixel130    False\n",
              "pixel131    False\n",
              "pixel132    False\n",
              "pixel133    False\n",
              "pixel134    False\n",
              "pixel135    False\n",
              "pixel136    False\n",
              "pixel137    False\n",
              "pixel138    False\n",
              "pixel146    False\n",
              "pixel147    False\n",
              "pixel148    False\n",
              "pixel149    False\n",
              "pixel150    False\n",
              "pixel151    False\n",
              "pixel152    False\n",
              "pixel153    False\n",
              "pixel154    False\n",
              "pixel155    False\n",
              "pixel156    False\n",
              "pixel157    False\n",
              "pixel158    False\n",
              "pixel159    False\n",
              "pixel160    False\n",
              "pixel327    False\n",
              "pixel328    False\n",
              "pixel329    False\n",
              "pixel351    False\n",
              "pixel410    False\n",
              "pixel411    False\n",
              "pixel412    False\n",
              "pixel413    False\n",
              "pixel414    False\n",
              "pixel415    False\n",
              "pixel416    False\n",
              "pixel417    False\n",
              "dtype: bool"
            ]
          },
          "metadata": {},
          "execution_count": 5
        }
      ]
    },
    {
      "cell_type": "code",
      "source": [
        "pd.value_counts(data['label']).plot.bar()"
      ],
      "metadata": {
        "colab": {
          "base_uri": "https://localhost:8080/",
          "height": 279
        },
        "id": "Ie4CbgNNAUvX",
        "outputId": "04e49f27-0251-4300-ef7b-2d302ea510a6"
      },
      "execution_count": 6,
      "outputs": [
        {
          "output_type": "execute_result",
          "data": {
            "text/plain": [
              "<matplotlib.axes._subplots.AxesSubplot at 0x7f33c54d43a0>"
            ]
          },
          "metadata": {},
          "execution_count": 6
        },
        {
          "output_type": "display_data",
          "data": {
            "text/plain": [
              "<Figure size 432x288 with 1 Axes>"
            ],
            "image/png": "[encoded data removed]"
          },
          "metadata": {
            "needs_background": "light"
          }
        }
      ]
    },
    {
      "cell_type": "code",
      "source": [
        "# Sepparting the features and the target variable\n",
        "\n",
        "X = data.drop(columns=['label'])\n",
        "y = data[['label']]"
      ],
      "metadata": {
        "id": "GXg0KZEeDcmI"
      },
      "execution_count": 7,
      "outputs": []
    },
    {
      "cell_type": "code",
      "source": [],
      "metadata": {
        "id": "sAbLfZ7U14LT"
      },
      "execution_count": 7,
      "outputs": []
    },
    {
      "cell_type": "code",
      "source": [
        "# Splitting the data into train and test set\n",
        "\n",
        "X_train, X_test, y_train, y_test = train_test_split(X, y, test_size = 0.30)"
      ],
      "metadata": {
        "id": "9N6gr7cODqTy"
      },
      "execution_count": 8,
      "outputs": []
    },
    {
      "cell_type": "code",
      "source": [],
      "metadata": {
        "id": "mgdM9v2Z1d8x"
      },
      "execution_count": 8,
      "outputs": []
    },
    {
      "cell_type": "code",
      "source": [
        "# Performing normalization on the data\n",
        "unscaled_features = X_train\n",
        "from sklearn.preprocessing import StandardScaler\n",
        "sc = StandardScaler()\n",
        "x_train_array = sc.fit_transform(X_train.values)\n"
      ],
      "metadata": {
        "id": "t-1jB0agDyPo"
      },
      "execution_count": 9,
      "outputs": []
    },
    {
      "cell_type": "code",
      "source": [
        "# Assign the scaled data to a DataFrame & use the index and columns arguments to keep your original indices and column names:\n",
        "X_train = pd.DataFrame(x_train_array, index=X_train.index, columns=X_train.columns)\n",
        "X_test_array = sc.transform(X_test.values)\n",
        "X_test = pd.DataFrame(X_test_array, index=X_test.index, columns=X_test.columns)"
      ],
      "metadata": {
        "id": "5Kes8c5MUIQb"
      },
      "execution_count": 10,
      "outputs": []
    },
    {
      "cell_type": "code",
      "source": [
        "print(X_train)"
      ],
      "metadata": {
        "colab": {
          "base_uri": "https://localhost:8080/"
        },
        "id": "m5ADBUjW2B72",
        "outputId": "b97ba7f7-40cb-4ae2-aa7a-866bdadb14cf"
      },
      "execution_count": 11,
      "outputs": [
        {
          "output_type": "stream",
          "name": "stdout",
          "text": [
            "        pixel43  pixel44   pixel92  pixel124  pixel125  pixel126  pixel127  \\\n",
            "21377 -0.031027 -0.03219 -0.079413 -0.398333 -0.459055 -0.504832 -0.525715   \n",
            "21770 -0.031027 -0.03219 -0.079413 -0.398333 -0.459055 -0.504832 -0.525715   \n",
            "11776 -0.031027 -0.03219 -0.079413 -0.398333 -0.459055 -0.504832 -0.525715   \n",
            "35751 -0.031027 -0.03219 -0.079413 -0.398333 -0.459055 -0.504832 -0.525715   \n",
            "3201  -0.031027 -0.03219 -0.079413 -0.398333 -0.459055 -0.504832 -0.525715   \n",
            "...         ...      ...       ...       ...       ...       ...       ...   \n",
            "4135  -0.031027 -0.03219 -0.079413  2.004610  0.633945 -0.504832 -0.525715   \n",
            "12198 -0.031027 -0.03219 -0.079413 -0.398333 -0.459055 -0.504832 -0.525715   \n",
            "23194 -0.031027 -0.03219 -0.079413 -0.398333 -0.459055 -0.504832 -0.525715   \n",
            "40254 -0.031027 -0.03219 -0.079413 -0.398333 -0.459055 -0.504832 -0.525715   \n",
            "11350 -0.031027 -0.03219 -0.079413 -0.398333 -0.459055 -0.504832 -0.525715   \n",
            "\n",
            "       pixel128  pixel129  pixel130  ...  pixel329  pixel351  pixel410  \\\n",
            "21377 -0.517057 -0.479459 -0.421346  ... -0.499645  0.039561 -0.608616   \n",
            "21770 -0.517057 -0.479459 -0.421346  ... -0.499645 -0.086561 -0.330121   \n",
            "11776 -0.517057 -0.479459 -0.421346  ...  1.805223 -0.924368 -0.914063   \n",
            "35751  0.068345  1.447882  2.697987  ... -0.499645 -0.924368  1.304917   \n",
            "3201  -0.517057 -0.479459 -0.421346  ... -0.499645  1.354828 -0.967965   \n",
            "...         ...       ...       ...  ...       ...       ...       ...   \n",
            "4135  -0.517057 -0.479459 -0.421346  ... -0.499645  1.372845  0.810812   \n",
            "12198 -0.517057 -0.479459 -0.421346  ... -0.499645 -0.924368  1.304917   \n",
            "23194 -0.517057 -0.479459 -0.421346  ...  0.241206 -0.924368  0.676056   \n",
            "40254 -0.517057 -0.479459 -0.421346  ... -0.499645  1.327802 -0.967965   \n",
            "11350 -0.517057 -0.479459 -0.421346  ...  2.369681 -0.555012  1.295933   \n",
            "\n",
            "       pixel411  pixel412  pixel413  pixel414  pixel415  pixel416  pixel417  \n",
            "21377 -0.764539 -0.599576 -0.474931 -0.370092 -0.273521  -0.17345 -0.069622  \n",
            "21770 -0.764539 -0.599576 -0.474931 -0.370092 -0.273521  -0.17345 -0.069622  \n",
            "11776 -0.764539 -0.599576 -0.474931 -0.370092 -0.273521  -0.17345 -0.069622  \n",
            "35751  1.661590  1.838438 -0.124565 -0.370092 -0.273521  -0.17345 -0.069622  \n",
            "3201  -0.764539 -0.599576 -0.474931 -0.370092 -0.273521  -0.17345 -0.069622  \n",
            "...         ...       ...       ...       ...       ...       ...       ...  \n",
            "4135  -0.764539 -0.599576 -0.474931 -0.370092 -0.273521  -0.17345 -0.069622  \n",
            "12198  1.661590 -0.217974 -0.474931 -0.370092 -0.273521  -0.17345 -0.069622  \n",
            "23194 -0.630287 -0.599576 -0.474931 -0.370092 -0.273521  -0.17345 -0.069622  \n",
            "40254 -0.764539 -0.599576 -0.474931 -0.370092 -0.273521  -0.17345 -0.069622  \n",
            "11350  0.012206 -0.599576 -0.474931 -0.370092 -0.273521  -0.17345 -0.069622  \n",
            "\n",
            "[29400 rows x 45 columns]\n"
          ]
        }
      ]
    },
    {
      "cell_type": "markdown",
      "source": [
        "# **---------- KNN ----------**"
      ],
      "metadata": {
        "id": "7waYw64YUc4T"
      }
    },
    {
      "cell_type": "code",
      "source": [
        "# Implementing KNN\n",
        "\n",
        "from sklearn.neighbors import KNeighborsClassifier\n",
        "classifier = KNeighborsClassifier(n_neighbors=7)\n",
        "print(classifier.fit(X_train, y_train))"
      ],
      "metadata": {
        "colab": {
          "base_uri": "https://localhost:8080/"
        },
        "id": "PXDEkN8gUZd9",
        "outputId": "d3358286-1759-4f0b-f463-8528bd99dc99"
      },
      "execution_count": 12,
      "outputs": [
        {
          "output_type": "stream",
          "name": "stdout",
          "text": [
            "KNeighborsClassifier(n_neighbors=7)\n"
          ]
        }
      ]
    },
    {
      "cell_type": "code",
      "source": [
        "# Getting the results of the model\n",
        "\n",
        "y_pred = classifier.predict(X_test)\n",
        "from sklearn.metrics import classification_report, confusion_matrix\n",
        "print('Test set accuracy: ',metrics.accuracy_score(y_test, y_pred))\n",
        "print(classification_report(y_test, y_pred))"
      ],
      "metadata": {
        "colab": {
          "base_uri": "https://localhost:8080/"
        },
        "id": "0-VrxpOVO66i",
        "outputId": "e201ab83-e91b-4178-b010-ec0425d35e2d"
      },
      "execution_count": 13,
      "outputs": [
        {
          "output_type": "stream",
          "name": "stdout",
          "text": [
            "Test set accuracy:  0.6480952380952381\n",
            "              precision    recall  f1-score   support\n",
            "\n",
            "           0       0.79      0.89      0.84      1242\n",
            "           1       0.75      0.95      0.84      1396\n",
            "           2       0.64      0.60      0.62      1258\n",
            "           3       0.55      0.53      0.54      1299\n",
            "           4       0.67      0.53      0.59      1235\n",
            "           5       0.62      0.57      0.60      1115\n",
            "           6       0.86      0.87      0.86      1290\n",
            "           7       0.47      0.60      0.53      1315\n",
            "           8       0.63      0.48      0.55      1232\n",
            "           9       0.46      0.39      0.42      1218\n",
            "\n",
            "    accuracy                           0.65     12600\n",
            "   macro avg       0.64      0.64      0.64     12600\n",
            "weighted avg       0.64      0.65      0.64     12600\n",
            "\n"
          ]
        }
      ]
    },
    {
      "cell_type": "code",
      "source": [],
      "metadata": {
        "id": "dDSNQssEy_Yl"
      },
      "execution_count": 13,
      "outputs": []
    },
    {
      "cell_type": "markdown",
      "source": [
        "# **---------- Neural Network---------**"
      ],
      "metadata": {
        "id": "WeIcVcCZUSko"
      }
    },
    {
      "cell_type": "code",
      "source": [
        "# Implementing NN\n",
        "\n",
        "from sklearn.neural_network import MLPClassifier\n",
        "# Initializing the multilayer perceptron\n",
        "mlp = MLPClassifier(hidden_layer_sizes=(120,),solver='adam',learning_rate_init= 0.001, max_iter=15000)\n",
        "mlp.fit(X_train, y_train)\n",
        "mlp.score(X_test,y_test)"
      ],
      "metadata": {
        "colab": {
          "base_uri": "https://localhost:8080/"
        },
        "id": "XEYhBpxkEBAZ",
        "outputId": "7a068791-c21a-45ba-b7ff-16f65ca5437a"
      },
      "execution_count": 14,
      "outputs": [
        {
          "output_type": "execute_result",
          "data": {
            "text/plain": [
              "0.6866666666666666"
            ]
          },
          "metadata": {},
          "execution_count": 14
        }
      ]
    },
    {
      "cell_type": "code",
      "source": [
        "# Getting the test results\n",
        "y_pred = mlp.predict(X_test)\n",
        "print('Test set accuracy: ',metrics.accuracy_score(y_test, y_pred))\n",
        "\n",
        "print(classification_report(y_test, y_pred))"
      ],
      "metadata": {
        "colab": {
          "base_uri": "https://localhost:8080/"
        },
        "id": "lpt-g9LZUPOD",
        "outputId": "f4c7ef5b-5705-40a7-bd90-e39d776c1e48"
      },
      "execution_count": 15,
      "outputs": [
        {
          "output_type": "stream",
          "name": "stdout",
          "text": [
            "Test set accuracy:  0.6866666666666666\n",
            "              precision    recall  f1-score   support\n",
            "\n",
            "           0       0.88      0.86      0.87      1242\n",
            "           1       0.87      0.93      0.90      1396\n",
            "           2       0.68      0.64      0.66      1258\n",
            "           3       0.62      0.55      0.58      1299\n",
            "           4       0.79      0.57      0.66      1235\n",
            "           5       0.60      0.68      0.64      1115\n",
            "           6       0.88      0.88      0.88      1290\n",
            "           7       0.51      0.68      0.58      1315\n",
            "           8       0.61      0.58      0.60      1232\n",
            "           9       0.48      0.46      0.47      1218\n",
            "\n",
            "    accuracy                           0.69     12600\n",
            "   macro avg       0.69      0.68      0.68     12600\n",
            "weighted avg       0.69      0.69      0.69     12600\n",
            "\n"
          ]
        }
      ]
    }
  ]
}